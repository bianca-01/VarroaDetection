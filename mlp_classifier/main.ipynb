{
 "cells": [
  {
   "cell_type": "code",
   "execution_count": 1,
   "metadata": {},
   "outputs": [],
   "source": [
    "from utils.pre_processed import pre_processamento, potencia, alargamento, logaritmico, negativo\n",
    "from utils.extraction import descritor_histograma, extract_features\n",
    "from utils.utils import read_json, read_img, save\n",
    "from sklearn.model_selection import train_test_split\n",
    "from sklearn.neural_network import MLPClassifier as mlp\n",
    "from sklearn.ensemble import RandomForestClassifier as rfc\n",
    "from sklearn.svm import SVC\n",
    "from sklearn.metrics import accuracy_score , precision_score, cohen_kappa_score\n",
    "from tqdm.notebook import tqdm_notebook\n",
    "import pandas as pd\n",
    "import numpy as np\n",
    "import matplotlib.pyplot as plt\n",
    "import seaborn as sns\n",
    "from glob import glob\n",
    "from skimage.io import imshow, imread\n",
    "from skimage.color import rgb2gray\n",
    "import os"
   ]
  },
  {
   "cell_type": "code",
   "execution_count": 2,
   "metadata": {},
   "outputs": [],
   "source": [
    "import warnings\n",
    "warnings.filterwarnings('ignore')\n",
    "warnings.simplefilter('ignore')"
   ]
  },
  {
   "cell_type": "markdown",
   "metadata": {},
   "source": [
    "# 1 Aquisição dos dados"
   ]
  },
  {
   "cell_type": "code",
   "execution_count": 3,
   "metadata": {},
   "outputs": [],
   "source": [
    "path = read_json('../paths.json')"
   ]
  },
  {
   "cell_type": "code",
   "execution_count": 4,
   "metadata": {},
   "outputs": [],
   "source": [
    "params = read_json('params.json')"
   ]
  },
  {
   "cell_type": "code",
   "execution_count": 5,
   "metadata": {},
   "outputs": [
    {
     "data": {
      "text/html": [
       "<div>\n",
       "<style scoped>\n",
       "    .dataframe tbody tr th:only-of-type {\n",
       "        vertical-align: middle;\n",
       "    }\n",
       "\n",
       "    .dataframe tbody tr th {\n",
       "        vertical-align: top;\n",
       "    }\n",
       "\n",
       "    .dataframe thead th {\n",
       "        text-align: right;\n",
       "    }\n",
       "</style>\n",
       "<table border=\"1\" class=\"dataframe\">\n",
       "  <thead>\n",
       "    <tr style=\"text-align: right;\">\n",
       "      <th></th>\n",
       "      <th>image</th>\n",
       "      <th>label</th>\n",
       "    </tr>\n",
       "  </thead>\n",
       "  <tbody>\n",
       "    <tr>\n",
       "      <th>0</th>\n",
       "      <td>2017-08-28_09-30-00-1_500_dirty_glass.mp4-bee_...</td>\n",
       "      <td>0</td>\n",
       "    </tr>\n",
       "    <tr>\n",
       "      <th>1</th>\n",
       "      <td>2017-08-28_09-30-00-1_500_dirty_glass.mp4-bee_...</td>\n",
       "      <td>1</td>\n",
       "    </tr>\n",
       "    <tr>\n",
       "      <th>2</th>\n",
       "      <td>2017-08-28_09-30-00-1_500_dirty_glass.mp4-bee_...</td>\n",
       "      <td>0</td>\n",
       "    </tr>\n",
       "    <tr>\n",
       "      <th>3</th>\n",
       "      <td>2017-08-28_09-30-00-1_500_dirty_glass.mp4-bee_...</td>\n",
       "      <td>1</td>\n",
       "    </tr>\n",
       "    <tr>\n",
       "      <th>4</th>\n",
       "      <td>2017-08-28_09-30-00-1_500_dirty_glass.mp4-bee_...</td>\n",
       "      <td>0</td>\n",
       "    </tr>\n",
       "  </tbody>\n",
       "</table>\n",
       "</div>"
      ],
      "text/plain": [
       "                                               image  label\n",
       "0  2017-08-28_09-30-00-1_500_dirty_glass.mp4-bee_...      0\n",
       "1  2017-08-28_09-30-00-1_500_dirty_glass.mp4-bee_...      1\n",
       "2  2017-08-28_09-30-00-1_500_dirty_glass.mp4-bee_...      0\n",
       "3  2017-08-28_09-30-00-1_500_dirty_glass.mp4-bee_...      1\n",
       "4  2017-08-28_09-30-00-1_500_dirty_glass.mp4-bee_...      0"
      ]
     },
     "execution_count": 5,
     "metadata": {},
     "output_type": "execute_result"
    }
   ],
   "source": [
    "df = pd.read_csv(path['metadata']+'metadataVarroa.csv')\n",
    "df.head()"
   ]
  },
  {
   "cell_type": "code",
   "execution_count": 6,
   "metadata": {},
   "outputs": [
    {
     "data": {
      "text/plain": [
       "0    9562\n",
       "1    3947\n",
       "Name: label, dtype: int64"
      ]
     },
     "execution_count": 6,
     "metadata": {},
     "output_type": "execute_result"
    }
   ],
   "source": [
    "# 1 = infectada\n",
    "# 0 = não infectada\n",
    "df['label'].value_counts()"
   ]
  },
  {
   "cell_type": "code",
   "execution_count": 7,
   "metadata": {},
   "outputs": [],
   "source": [
    "y = df['label'].to_numpy()"
   ]
  },
  {
   "cell_type": "code",
   "execution_count": 8,
   "metadata": {},
   "outputs": [
    {
     "data": {
      "text/plain": [
       "(13509,)"
      ]
     },
     "execution_count": 8,
     "metadata": {},
     "output_type": "execute_result"
    }
   ],
   "source": [
    "y.shape"
   ]
  },
  {
   "cell_type": "code",
   "execution_count": 9,
   "metadata": {},
   "outputs": [
    {
     "data": {
      "text/html": [
       "<div>\n",
       "<style scoped>\n",
       "    .dataframe tbody tr th:only-of-type {\n",
       "        vertical-align: middle;\n",
       "    }\n",
       "\n",
       "    .dataframe tbody tr th {\n",
       "        vertical-align: top;\n",
       "    }\n",
       "\n",
       "    .dataframe thead th {\n",
       "        text-align: right;\n",
       "    }\n",
       "</style>\n",
       "<table border=\"1\" class=\"dataframe\">\n",
       "  <thead>\n",
       "    <tr style=\"text-align: right;\">\n",
       "      <th></th>\n",
       "      <th>image</th>\n",
       "      <th>label</th>\n",
       "    </tr>\n",
       "  </thead>\n",
       "  <tbody>\n",
       "    <tr>\n",
       "      <th>0</th>\n",
       "      <td>2017-08-28_09-30-00-1_500_dirty_glass.mp4-bee_...</td>\n",
       "      <td>0</td>\n",
       "    </tr>\n",
       "    <tr>\n",
       "      <th>1</th>\n",
       "      <td>2017-08-28_09-30-00-1_500_dirty_glass.mp4-bee_...</td>\n",
       "      <td>0</td>\n",
       "    </tr>\n",
       "    <tr>\n",
       "      <th>2</th>\n",
       "      <td>2017-08-28_09-30-00-1_500_dirty_glass.mp4-bee_...</td>\n",
       "      <td>0</td>\n",
       "    </tr>\n",
       "    <tr>\n",
       "      <th>3</th>\n",
       "      <td>2017-08-28_09-30-00-1_500_dirty_glass.mp4-bee_...</td>\n",
       "      <td>0</td>\n",
       "    </tr>\n",
       "    <tr>\n",
       "      <th>4</th>\n",
       "      <td>2017-08-28_09-30-00-1_500_dirty_glass.mp4-bee_...</td>\n",
       "      <td>0</td>\n",
       "    </tr>\n",
       "    <tr>\n",
       "      <th>...</th>\n",
       "      <td>...</td>\n",
       "      <td>...</td>\n",
       "    </tr>\n",
       "    <tr>\n",
       "      <th>9557</th>\n",
       "      <td>2017-10-17_16-41-10.mp4-bee_id_7359-16410-1.png</td>\n",
       "      <td>0</td>\n",
       "    </tr>\n",
       "    <tr>\n",
       "      <th>9558</th>\n",
       "      <td>2017-10-17_16-41-10.mp4-bee_id_7360-16440-1.png</td>\n",
       "      <td>0</td>\n",
       "    </tr>\n",
       "    <tr>\n",
       "      <th>9559</th>\n",
       "      <td>2017-10-17_16-41-10.mp4-bee_id_7361-16455-1.png</td>\n",
       "      <td>0</td>\n",
       "    </tr>\n",
       "    <tr>\n",
       "      <th>9560</th>\n",
       "      <td>2017-10-17_16-41-10.mp4-bee_id_7364-16545-1.png</td>\n",
       "      <td>0</td>\n",
       "    </tr>\n",
       "    <tr>\n",
       "      <th>9561</th>\n",
       "      <td>2017-10-17_16-41-10.mp4-bee_id_7365-16560-1.png</td>\n",
       "      <td>0</td>\n",
       "    </tr>\n",
       "  </tbody>\n",
       "</table>\n",
       "<p>9562 rows × 2 columns</p>\n",
       "</div>"
      ],
      "text/plain": [
       "                                                  image  label\n",
       "0     2017-08-28_09-30-00-1_500_dirty_glass.mp4-bee_...      0\n",
       "1     2017-08-28_09-30-00-1_500_dirty_glass.mp4-bee_...      0\n",
       "2     2017-08-28_09-30-00-1_500_dirty_glass.mp4-bee_...      0\n",
       "3     2017-08-28_09-30-00-1_500_dirty_glass.mp4-bee_...      0\n",
       "4     2017-08-28_09-30-00-1_500_dirty_glass.mp4-bee_...      0\n",
       "...                                                 ...    ...\n",
       "9557    2017-10-17_16-41-10.mp4-bee_id_7359-16410-1.png      0\n",
       "9558    2017-10-17_16-41-10.mp4-bee_id_7360-16440-1.png      0\n",
       "9559    2017-10-17_16-41-10.mp4-bee_id_7361-16455-1.png      0\n",
       "9560    2017-10-17_16-41-10.mp4-bee_id_7364-16545-1.png      0\n",
       "9561    2017-10-17_16-41-10.mp4-bee_id_7365-16560-1.png      0\n",
       "\n",
       "[9562 rows x 2 columns]"
      ]
     },
     "execution_count": 9,
     "metadata": {},
     "output_type": "execute_result"
    }
   ],
   "source": [
    "dfSaf = df[df['label']==0].sort_values(by='image')\n",
    "dfSaf.index = [i for i in range(len(dfSaf))]\n",
    "dfSaf"
   ]
  },
  {
   "cell_type": "code",
   "execution_count": 10,
   "metadata": {},
   "outputs": [
    {
     "data": {
      "text/html": [
       "<div>\n",
       "<style scoped>\n",
       "    .dataframe tbody tr th:only-of-type {\n",
       "        vertical-align: middle;\n",
       "    }\n",
       "\n",
       "    .dataframe tbody tr th {\n",
       "        vertical-align: top;\n",
       "    }\n",
       "\n",
       "    .dataframe thead th {\n",
       "        text-align: right;\n",
       "    }\n",
       "</style>\n",
       "<table border=\"1\" class=\"dataframe\">\n",
       "  <thead>\n",
       "    <tr style=\"text-align: right;\">\n",
       "      <th></th>\n",
       "      <th>image</th>\n",
       "      <th>label</th>\n",
       "    </tr>\n",
       "  </thead>\n",
       "  <tbody>\n",
       "    <tr>\n",
       "      <th>0</th>\n",
       "      <td>2017-08-28_09-30-00-1_500_dirty_glass.mp4-bee_...</td>\n",
       "      <td>1</td>\n",
       "    </tr>\n",
       "    <tr>\n",
       "      <th>1</th>\n",
       "      <td>2017-08-28_09-30-00-1_500_dirty_glass.mp4-bee_...</td>\n",
       "      <td>1</td>\n",
       "    </tr>\n",
       "    <tr>\n",
       "      <th>2</th>\n",
       "      <td>2017-08-28_09-30-00-1_500_dirty_glass.mp4-bee_...</td>\n",
       "      <td>1</td>\n",
       "    </tr>\n",
       "    <tr>\n",
       "      <th>3</th>\n",
       "      <td>2017-08-28_09-30-00-1_500_dirty_glass.mp4-bee_...</td>\n",
       "      <td>1</td>\n",
       "    </tr>\n",
       "    <tr>\n",
       "      <th>4</th>\n",
       "      <td>2017-08-28_09-30-00-1_500_dirty_glass.mp4-bee_...</td>\n",
       "      <td>1</td>\n",
       "    </tr>\n",
       "    <tr>\n",
       "      <th>...</th>\n",
       "      <td>...</td>\n",
       "      <td>...</td>\n",
       "    </tr>\n",
       "    <tr>\n",
       "      <th>3942</th>\n",
       "      <td>2017-10-17_16-41-10.mp4-bee_id_7358-16335-1.png</td>\n",
       "      <td>1</td>\n",
       "    </tr>\n",
       "    <tr>\n",
       "      <th>3943</th>\n",
       "      <td>2017-10-17_16-41-10.mp4-bee_id_7362-16455-1.png</td>\n",
       "      <td>1</td>\n",
       "    </tr>\n",
       "    <tr>\n",
       "      <th>3944</th>\n",
       "      <td>2017-10-17_16-41-10.mp4-bee_id_7366-16575-1.png</td>\n",
       "      <td>1</td>\n",
       "    </tr>\n",
       "    <tr>\n",
       "      <th>3945</th>\n",
       "      <td>2017-10-17_16-41-10.mp4-bee_id_7367-16620-1.png</td>\n",
       "      <td>1</td>\n",
       "    </tr>\n",
       "    <tr>\n",
       "      <th>3946</th>\n",
       "      <td>2017-10-17_16-41-10.mp4-bee_id_7369-16650-1.png</td>\n",
       "      <td>1</td>\n",
       "    </tr>\n",
       "  </tbody>\n",
       "</table>\n",
       "<p>3947 rows × 2 columns</p>\n",
       "</div>"
      ],
      "text/plain": [
       "                                                  image  label\n",
       "0     2017-08-28_09-30-00-1_500_dirty_glass.mp4-bee_...      1\n",
       "1     2017-08-28_09-30-00-1_500_dirty_glass.mp4-bee_...      1\n",
       "2     2017-08-28_09-30-00-1_500_dirty_glass.mp4-bee_...      1\n",
       "3     2017-08-28_09-30-00-1_500_dirty_glass.mp4-bee_...      1\n",
       "4     2017-08-28_09-30-00-1_500_dirty_glass.mp4-bee_...      1\n",
       "...                                                 ...    ...\n",
       "3942    2017-10-17_16-41-10.mp4-bee_id_7358-16335-1.png      1\n",
       "3943    2017-10-17_16-41-10.mp4-bee_id_7362-16455-1.png      1\n",
       "3944    2017-10-17_16-41-10.mp4-bee_id_7366-16575-1.png      1\n",
       "3945    2017-10-17_16-41-10.mp4-bee_id_7367-16620-1.png      1\n",
       "3946    2017-10-17_16-41-10.mp4-bee_id_7369-16650-1.png      1\n",
       "\n",
       "[3947 rows x 2 columns]"
      ]
     },
     "execution_count": 10,
     "metadata": {},
     "output_type": "execute_result"
    }
   ],
   "source": [
    "dfInf = df[df['label']==1].sort_values(by='image')\n",
    "dfInf.index = [i for i in range(len(dfInf))]\n",
    "dfInf"
   ]
  },
  {
   "cell_type": "code",
   "execution_count": 11,
   "metadata": {},
   "outputs": [
    {
     "data": {
      "text/html": [
       "<div>\n",
       "<style scoped>\n",
       "    .dataframe tbody tr th:only-of-type {\n",
       "        vertical-align: middle;\n",
       "    }\n",
       "\n",
       "    .dataframe tbody tr th {\n",
       "        vertical-align: top;\n",
       "    }\n",
       "\n",
       "    .dataframe thead th {\n",
       "        text-align: right;\n",
       "    }\n",
       "</style>\n",
       "<table border=\"1\" class=\"dataframe\">\n",
       "  <thead>\n",
       "    <tr style=\"text-align: right;\">\n",
       "      <th></th>\n",
       "      <th>image</th>\n",
       "      <th>label</th>\n",
       "    </tr>\n",
       "  </thead>\n",
       "  <tbody>\n",
       "    <tr>\n",
       "      <th>0</th>\n",
       "      <td>2017-08-28_09-30-00-1_500_dirty_glass.mp4-bee_...</td>\n",
       "      <td>0</td>\n",
       "    </tr>\n",
       "    <tr>\n",
       "      <th>1</th>\n",
       "      <td>2017-08-28_09-30-00-1_500_dirty_glass.mp4-bee_...</td>\n",
       "      <td>1</td>\n",
       "    </tr>\n",
       "    <tr>\n",
       "      <th>2</th>\n",
       "      <td>2017-08-28_09-30-00-1_500_dirty_glass.mp4-bee_...</td>\n",
       "      <td>0</td>\n",
       "    </tr>\n",
       "    <tr>\n",
       "      <th>3</th>\n",
       "      <td>2017-08-28_09-30-00-1_500_dirty_glass.mp4-bee_...</td>\n",
       "      <td>1</td>\n",
       "    </tr>\n",
       "    <tr>\n",
       "      <th>4</th>\n",
       "      <td>2017-08-28_09-30-00-1_500_dirty_glass.mp4-bee_...</td>\n",
       "      <td>0</td>\n",
       "    </tr>\n",
       "    <tr>\n",
       "      <th>...</th>\n",
       "      <td>...</td>\n",
       "      <td>...</td>\n",
       "    </tr>\n",
       "    <tr>\n",
       "      <th>3995</th>\n",
       "      <td>2017-09-20_19-24-55.mp4-bee_id_3601-21915-1.png</td>\n",
       "      <td>1</td>\n",
       "    </tr>\n",
       "    <tr>\n",
       "      <th>3996</th>\n",
       "      <td>2017-09-20_19-24-55.mp4-bee_id_3608-22185-1.png</td>\n",
       "      <td>1</td>\n",
       "    </tr>\n",
       "    <tr>\n",
       "      <th>3997</th>\n",
       "      <td>2017-09-20_19-24-55.mp4-bee_id_3616-22425-1.png</td>\n",
       "      <td>1</td>\n",
       "    </tr>\n",
       "    <tr>\n",
       "      <th>3998</th>\n",
       "      <td>2017-09-20_19-24-55.mp4-bee_id_3619-22530-1.png</td>\n",
       "      <td>1</td>\n",
       "    </tr>\n",
       "    <tr>\n",
       "      <th>3999</th>\n",
       "      <td>2017-09-20_19-24-55.mp4-bee_id_3623-22620-1.png</td>\n",
       "      <td>1</td>\n",
       "    </tr>\n",
       "  </tbody>\n",
       "</table>\n",
       "<p>4000 rows × 2 columns</p>\n",
       "</div>"
      ],
      "text/plain": [
       "                                                  image  label\n",
       "0     2017-08-28_09-30-00-1_500_dirty_glass.mp4-bee_...      0\n",
       "1     2017-08-28_09-30-00-1_500_dirty_glass.mp4-bee_...      1\n",
       "2     2017-08-28_09-30-00-1_500_dirty_glass.mp4-bee_...      0\n",
       "3     2017-08-28_09-30-00-1_500_dirty_glass.mp4-bee_...      1\n",
       "4     2017-08-28_09-30-00-1_500_dirty_glass.mp4-bee_...      0\n",
       "...                                                 ...    ...\n",
       "3995    2017-09-20_19-24-55.mp4-bee_id_3601-21915-1.png      1\n",
       "3996    2017-09-20_19-24-55.mp4-bee_id_3608-22185-1.png      1\n",
       "3997    2017-09-20_19-24-55.mp4-bee_id_3616-22425-1.png      1\n",
       "3998    2017-09-20_19-24-55.mp4-bee_id_3619-22530-1.png      1\n",
       "3999    2017-09-20_19-24-55.mp4-bee_id_3623-22620-1.png      1\n",
       "\n",
       "[4000 rows x 2 columns]"
      ]
     },
     "execution_count": 11,
     "metadata": {},
     "output_type": "execute_result"
    }
   ],
   "source": [
    "dfBal = pd.concat([dfSaf.loc[:1999], dfInf.loc[:1999]])\n",
    "dfBal.sort_values(by='image', inplace=True)\n",
    "dfBal.index = [i for i in range(len(dfBal))]\n",
    "dfBal"
   ]
  },
  {
   "cell_type": "code",
   "execution_count": 12,
   "metadata": {},
   "outputs": [
    {
     "data": {
      "text/plain": [
       "(4000,)"
      ]
     },
     "execution_count": 12,
     "metadata": {},
     "output_type": "execute_result"
    }
   ],
   "source": [
    "yBal = dfBal['label'].to_numpy()\n",
    "yBal.shape"
   ]
  },
  {
   "cell_type": "markdown",
   "metadata": {},
   "source": [
    "# Pré - processamento"
   ]
  },
  {
   "cell_type": "code",
   "execution_count": 13,
   "metadata": {},
   "outputs": [
    {
     "data": {
      "text/plain": [
       "{'k': [5, 16, 20, 35],\n",
       " 'e': [1.25, 1.55, 1.8, 2],\n",
       " 'c': [9, 13, 30, 64],\n",
       " 'gama': [0.57, 0.66, 0.84, 0.92]}"
      ]
     },
     "execution_count": 13,
     "metadata": {},
     "output_type": "execute_result"
    }
   ],
   "source": [
    "params"
   ]
  },
  {
   "cell_type": "code",
   "execution_count": 14,
   "metadata": {},
   "outputs": [],
   "source": [
    "imgsAl = {}\n",
    "imgsLog = {}\n",
    "imgsPot = {}\n",
    "imgsNeg = []"
   ]
  },
  {
   "cell_type": "code",
   "execution_count": 15,
   "metadata": {},
   "outputs": [
    {
     "data": {
      "application/vnd.jupyter.widget-view+json": {
       "model_id": "757e25a515854841936629f0e51bfa7f",
       "version_major": 2,
       "version_minor": 0
      },
      "text/plain": [
       "  0%|          | 0/4 [00:00<?, ?it/s]"
      ]
     },
     "metadata": {},
     "output_type": "display_data"
    },
    {
     "data": {
      "application/vnd.jupyter.widget-view+json": {
       "model_id": "3a4717e9bb524bf3b3cbcce1fbdcf7e5",
       "version_major": 2,
       "version_minor": 0
      },
      "text/plain": [
       "  0%|          | 0/4000 [00:00<?, ?it/s]"
      ]
     },
     "metadata": {},
     "output_type": "display_data"
    },
    {
     "data": {
      "application/vnd.jupyter.widget-view+json": {
       "model_id": "3316072002f947a88789667818b67684",
       "version_major": 2,
       "version_minor": 0
      },
      "text/plain": [
       "  0%|          | 0/4000 [00:00<?, ?it/s]"
      ]
     },
     "metadata": {},
     "output_type": "display_data"
    },
    {
     "data": {
      "application/vnd.jupyter.widget-view+json": {
       "model_id": "1c887bff390b4d4187f4245f7838778d",
       "version_major": 2,
       "version_minor": 0
      },
      "text/plain": [
       "  0%|          | 0/4000 [00:00<?, ?it/s]"
      ]
     },
     "metadata": {},
     "output_type": "display_data"
    },
    {
     "data": {
      "application/vnd.jupyter.widget-view+json": {
       "model_id": "5842d8bb3e264c279c5aa6e1564b0e5a",
       "version_major": 2,
       "version_minor": 0
      },
      "text/plain": [
       "  0%|          | 0/4000 [00:00<?, ?it/s]"
      ]
     },
     "metadata": {},
     "output_type": "display_data"
    }
   ],
   "source": [
    "#alargamento\n",
    "for _k,_e in tqdm_notebook(zip(params['k'], params['e']), total=len(params['k'])):\n",
    "    imgsAl[f'k{_k}_e{_e}'] = pre_processamento(path['img'], dfBal, alargamento, [_k, _e])"
   ]
  },
  {
   "cell_type": "code",
   "execution_count": 16,
   "metadata": {},
   "outputs": [
    {
     "data": {
      "text/plain": [
       "dict_keys(['k5_e1.25', 'k16_e1.55', 'k20_e1.8', 'k35_e2'])"
      ]
     },
     "execution_count": 16,
     "metadata": {},
     "output_type": "execute_result"
    }
   ],
   "source": [
    "imgsAl.keys()"
   ]
  },
  {
   "cell_type": "code",
   "execution_count": 17,
   "metadata": {},
   "outputs": [
    {
     "data": {
      "application/vnd.jupyter.widget-view+json": {
       "model_id": "55f820ad6fe340ca8f0c0450e5a5ad3d",
       "version_major": 2,
       "version_minor": 0
      },
      "text/plain": [
       "  0%|          | 0/4 [00:00<?, ?it/s]"
      ]
     },
     "metadata": {},
     "output_type": "display_data"
    },
    {
     "data": {
      "application/vnd.jupyter.widget-view+json": {
       "model_id": "379e3e8ae16842d68757048a3621ab41",
       "version_major": 2,
       "version_minor": 0
      },
      "text/plain": [
       "  0%|          | 0/4000 [00:00<?, ?it/s]"
      ]
     },
     "metadata": {},
     "output_type": "display_data"
    },
    {
     "data": {
      "application/vnd.jupyter.widget-view+json": {
       "model_id": "08cbd76ed7fb4cbf89217a8df0e2dce8",
       "version_major": 2,
       "version_minor": 0
      },
      "text/plain": [
       "  0%|          | 0/4000 [00:00<?, ?it/s]"
      ]
     },
     "metadata": {},
     "output_type": "display_data"
    },
    {
     "data": {
      "application/vnd.jupyter.widget-view+json": {
       "model_id": "2b7c1e6dedea4cd7bc93d70e2e558474",
       "version_major": 2,
       "version_minor": 0
      },
      "text/plain": [
       "  0%|          | 0/4000 [00:00<?, ?it/s]"
      ]
     },
     "metadata": {},
     "output_type": "display_data"
    },
    {
     "data": {
      "application/vnd.jupyter.widget-view+json": {
       "model_id": "4f96c84d73834f34aa5e63e3d9de80d8",
       "version_major": 2,
       "version_minor": 0
      },
      "text/plain": [
       "  0%|          | 0/4000 [00:00<?, ?it/s]"
      ]
     },
     "metadata": {},
     "output_type": "display_data"
    }
   ],
   "source": [
    "#logaritmo\n",
    "for _c in tqdm_notebook(params['c']):\n",
    "    imgsLog[f'c{_c}'] = pre_processamento(path['img'], dfBal, logaritmico, [_c])"
   ]
  },
  {
   "cell_type": "code",
   "execution_count": 18,
   "metadata": {},
   "outputs": [
    {
     "data": {
      "text/plain": [
       "dict_keys(['c9', 'c13', 'c30', 'c64'])"
      ]
     },
     "execution_count": 18,
     "metadata": {},
     "output_type": "execute_result"
    }
   ],
   "source": [
    "imgsLog.keys()"
   ]
  },
  {
   "cell_type": "code",
   "execution_count": 19,
   "metadata": {},
   "outputs": [
    {
     "data": {
      "application/vnd.jupyter.widget-view+json": {
       "model_id": "70116041e3ab409b8dfc0e94076ea583",
       "version_major": 2,
       "version_minor": 0
      },
      "text/plain": [
       "  0%|          | 0/4 [00:00<?, ?it/s]"
      ]
     },
     "metadata": {},
     "output_type": "display_data"
    },
    {
     "data": {
      "application/vnd.jupyter.widget-view+json": {
       "model_id": "c8c6cab78f3e4b1d83c1f4a44530b9ca",
       "version_major": 2,
       "version_minor": 0
      },
      "text/plain": [
       "  0%|          | 0/4000 [00:00<?, ?it/s]"
      ]
     },
     "metadata": {},
     "output_type": "display_data"
    },
    {
     "data": {
      "application/vnd.jupyter.widget-view+json": {
       "model_id": "28e6b36ff26548548eafedf9cd2f27e8",
       "version_major": 2,
       "version_minor": 0
      },
      "text/plain": [
       "  0%|          | 0/4000 [00:00<?, ?it/s]"
      ]
     },
     "metadata": {},
     "output_type": "display_data"
    },
    {
     "data": {
      "application/vnd.jupyter.widget-view+json": {
       "model_id": "a9d908c8de9b45a0903de7d86a7afb02",
       "version_major": 2,
       "version_minor": 0
      },
      "text/plain": [
       "  0%|          | 0/4000 [00:00<?, ?it/s]"
      ]
     },
     "metadata": {},
     "output_type": "display_data"
    },
    {
     "data": {
      "application/vnd.jupyter.widget-view+json": {
       "model_id": "31a0ad75d2964846803510d5214ff14b",
       "version_major": 2,
       "version_minor": 0
      },
      "text/plain": [
       "  0%|          | 0/4000 [00:00<?, ?it/s]"
      ]
     },
     "metadata": {},
     "output_type": "display_data"
    }
   ],
   "source": [
    "#potencia\n",
    "for _c, _gama in tqdm_notebook(zip(params['c'], params['gama']), total=len(params['c'])):\n",
    "    imgsPot[f'c{_c}_gama{_gama}'] = pre_processamento(path['img'], dfBal, potencia, [_c, _gama])"
   ]
  },
  {
   "cell_type": "code",
   "execution_count": 20,
   "metadata": {},
   "outputs": [
    {
     "data": {
      "text/plain": [
       "dict_keys(['c9_gama0.57', 'c13_gama0.66', 'c30_gama0.84', 'c64_gama0.92'])"
      ]
     },
     "execution_count": 20,
     "metadata": {},
     "output_type": "execute_result"
    }
   ],
   "source": [
    "imgsPot.keys()"
   ]
  },
  {
   "cell_type": "code",
   "execution_count": 21,
   "metadata": {},
   "outputs": [
    {
     "data": {
      "application/vnd.jupyter.widget-view+json": {
       "model_id": "3aa7d248a5854922af78e5689953ae1e",
       "version_major": 2,
       "version_minor": 0
      },
      "text/plain": [
       "  0%|          | 0/4000 [00:00<?, ?it/s]"
      ]
     },
     "metadata": {},
     "output_type": "display_data"
    }
   ],
   "source": [
    "#negativo\n",
    "imgsNeg = pre_processamento(path['img'], dfBal, negativo)"
   ]
  },
  {
   "cell_type": "markdown",
   "metadata": {},
   "source": [
    "# 3 Extração de características"
   ]
  },
  {
   "cell_type": "code",
   "execution_count": 22,
   "metadata": {},
   "outputs": [
    {
     "name": "stdout",
     "output_type": "stream",
     "text": [
      "Saved!\n",
      "Saved!\n"
     ]
    }
   ],
   "source": [
    "save(y, path['pickle']+'labels.pickle')\n",
    "save(yBal, path['pickle']+'labels_balancead.pickle')"
   ]
  },
  {
   "cell_type": "code",
   "execution_count": 23,
   "metadata": {},
   "outputs": [
    {
     "data": {
      "text/plain": [
       "((4000,), (13509,))"
      ]
     },
     "execution_count": 23,
     "metadata": {},
     "output_type": "execute_result"
    }
   ],
   "source": [
    "yBal.shape, y.shape"
   ]
  },
  {
   "cell_type": "code",
   "execution_count": 24,
   "metadata": {},
   "outputs": [
    {
     "data": {
      "application/vnd.jupyter.widget-view+json": {
       "model_id": "5220f677825f497da3397d96ca4715bb",
       "version_major": 2,
       "version_minor": 0
      },
      "text/plain": [
       "  0%|          | 0/13509 [00:00<?, ?it/s]"
      ]
     },
     "metadata": {},
     "output_type": "display_data"
    }
   ],
   "source": [
    "#original\n",
    "xOriginal = extract_features(df, path=path['img'], op=0)"
   ]
  },
  {
   "cell_type": "code",
   "execution_count": 25,
   "metadata": {},
   "outputs": [
    {
     "name": "stdout",
     "output_type": "stream",
     "text": [
      "Saved!\n"
     ]
    }
   ],
   "source": [
    "save(xOriginal, path['pickle']+'feats_original.pickle')"
   ]
  },
  {
   "cell_type": "code",
   "execution_count": 26,
   "metadata": {},
   "outputs": [
    {
     "data": {
      "application/vnd.jupyter.widget-view+json": {
       "model_id": "77222aa65c9b4a3bad2cc9ad19aaf82c",
       "version_major": 2,
       "version_minor": 0
      },
      "text/plain": [
       "  0%|          | 0/4000 [00:00<?, ?it/s]"
      ]
     },
     "metadata": {},
     "output_type": "display_data"
    },
    {
     "name": "stdout",
     "output_type": "stream",
     "text": [
      "Saved!\n"
     ]
    }
   ],
   "source": [
    "xBalancead = extract_features(dfBal, path=path['img'], op=0)\n",
    "save(xBalancead, path['pickle']+'feats_original_balancead.pickle')"
   ]
  },
  {
   "cell_type": "code",
   "execution_count": 27,
   "metadata": {},
   "outputs": [
    {
     "data": {
      "application/vnd.jupyter.widget-view+json": {
       "model_id": "65e7203302cc4320a2b9a6fdb0bc53d9",
       "version_major": 2,
       "version_minor": 0
      },
      "text/plain": [
       "  0%|          | 0/4 [00:00<?, ?it/s]"
      ]
     },
     "metadata": {},
     "output_type": "display_data"
    },
    {
     "data": {
      "application/vnd.jupyter.widget-view+json": {
       "model_id": "87a28686bfe74d33bfdc2c9a0f451dca",
       "version_major": 2,
       "version_minor": 0
      },
      "text/plain": [
       "  0%|          | 0/4000 [00:00<?, ?it/s]"
      ]
     },
     "metadata": {},
     "output_type": "display_data"
    },
    {
     "name": "stdout",
     "output_type": "stream",
     "text": [
      "Saved!\n"
     ]
    },
    {
     "data": {
      "application/vnd.jupyter.widget-view+json": {
       "model_id": "ec05b34824bf4ec48048ce5ff4823c89",
       "version_major": 2,
       "version_minor": 0
      },
      "text/plain": [
       "  0%|          | 0/4000 [00:00<?, ?it/s]"
      ]
     },
     "metadata": {},
     "output_type": "display_data"
    },
    {
     "name": "stdout",
     "output_type": "stream",
     "text": [
      "Saved!\n"
     ]
    },
    {
     "data": {
      "application/vnd.jupyter.widget-view+json": {
       "model_id": "8cbdcf4a04fa4521bfb0c8fe06023c29",
       "version_major": 2,
       "version_minor": 0
      },
      "text/plain": [
       "  0%|          | 0/4000 [00:00<?, ?it/s]"
      ]
     },
     "metadata": {},
     "output_type": "display_data"
    },
    {
     "name": "stdout",
     "output_type": "stream",
     "text": [
      "Saved!\n"
     ]
    },
    {
     "data": {
      "application/vnd.jupyter.widget-view+json": {
       "model_id": "7d6f4520996443ae873aef6d97b1a5ee",
       "version_major": 2,
       "version_minor": 0
      },
      "text/plain": [
       "  0%|          | 0/4000 [00:00<?, ?it/s]"
      ]
     },
     "metadata": {},
     "output_type": "display_data"
    },
    {
     "name": "stdout",
     "output_type": "stream",
     "text": [
      "Saved!\n"
     ]
    }
   ],
   "source": [
    "#alargamento\n",
    "xAlargamento = {}\n",
    "for _k,_e in tqdm_notebook(zip(params['k'], params['e']), total=len(params['k'])):\n",
    "    xAlargamento[f'k{_k}_e{_e}'] = extract_features(imgsAl[f'k{_k}_e{_e}'])\n",
    "    save(xAlargamento[f'k{_k}_e{_e}'] ,path['pickle']+f'feats_alargamento_k{_k}_e{_e}.pickle')"
   ]
  },
  {
   "cell_type": "code",
   "execution_count": 28,
   "metadata": {},
   "outputs": [
    {
     "data": {
      "application/vnd.jupyter.widget-view+json": {
       "model_id": "b335c5dd8e5d49df8c124642bca7c6f0",
       "version_major": 2,
       "version_minor": 0
      },
      "text/plain": [
       "  0%|          | 0/4 [00:00<?, ?it/s]"
      ]
     },
     "metadata": {},
     "output_type": "display_data"
    },
    {
     "data": {
      "application/vnd.jupyter.widget-view+json": {
       "model_id": "7afcb829dfbf46068f6182fad6572792",
       "version_major": 2,
       "version_minor": 0
      },
      "text/plain": [
       "  0%|          | 0/4000 [00:00<?, ?it/s]"
      ]
     },
     "metadata": {},
     "output_type": "display_data"
    },
    {
     "name": "stdout",
     "output_type": "stream",
     "text": [
      "Saved!\n"
     ]
    },
    {
     "data": {
      "application/vnd.jupyter.widget-view+json": {
       "model_id": "b798ff6fe5614ac4b7c0dbdd670e31d7",
       "version_major": 2,
       "version_minor": 0
      },
      "text/plain": [
       "  0%|          | 0/4000 [00:00<?, ?it/s]"
      ]
     },
     "metadata": {},
     "output_type": "display_data"
    },
    {
     "name": "stdout",
     "output_type": "stream",
     "text": [
      "Saved!\n"
     ]
    },
    {
     "data": {
      "application/vnd.jupyter.widget-view+json": {
       "model_id": "b21254dc7e5b4a5682e0530ed599ab0f",
       "version_major": 2,
       "version_minor": 0
      },
      "text/plain": [
       "  0%|          | 0/4000 [00:00<?, ?it/s]"
      ]
     },
     "metadata": {},
     "output_type": "display_data"
    },
    {
     "name": "stdout",
     "output_type": "stream",
     "text": [
      "Saved!\n"
     ]
    },
    {
     "data": {
      "application/vnd.jupyter.widget-view+json": {
       "model_id": "5338d33ce9a94600a6aae41596974d3e",
       "version_major": 2,
       "version_minor": 0
      },
      "text/plain": [
       "  0%|          | 0/4000 [00:00<?, ?it/s]"
      ]
     },
     "metadata": {},
     "output_type": "display_data"
    },
    {
     "name": "stdout",
     "output_type": "stream",
     "text": [
      "Saved!\n"
     ]
    }
   ],
   "source": [
    "xLogaritmo = {}\n",
    "for _c in tqdm_notebook(params['c']):\n",
    "    xLogaritmo[f'c{_c}'] = extract_features(imgsLog[f'c{_c}'])\n",
    "    save(xLogaritmo[f'c{_c}'] , path['pickle']+f'feats_logaritmo_c{_c}.pickle')"
   ]
  },
  {
   "cell_type": "code",
   "execution_count": 29,
   "metadata": {},
   "outputs": [
    {
     "data": {
      "application/vnd.jupyter.widget-view+json": {
       "model_id": "08cfe8923aaa45d2a064f1db440201bb",
       "version_major": 2,
       "version_minor": 0
      },
      "text/plain": [
       "  0%|          | 0/4 [00:00<?, ?it/s]"
      ]
     },
     "metadata": {},
     "output_type": "display_data"
    },
    {
     "data": {
      "application/vnd.jupyter.widget-view+json": {
       "model_id": "091992d4d3634fa99c30664a0957b25b",
       "version_major": 2,
       "version_minor": 0
      },
      "text/plain": [
       "  0%|          | 0/4000 [00:00<?, ?it/s]"
      ]
     },
     "metadata": {},
     "output_type": "display_data"
    },
    {
     "name": "stdout",
     "output_type": "stream",
     "text": [
      "Saved!\n"
     ]
    },
    {
     "data": {
      "application/vnd.jupyter.widget-view+json": {
       "model_id": "119bfd217cfb4dd8b45927d2e57ae368",
       "version_major": 2,
       "version_minor": 0
      },
      "text/plain": [
       "  0%|          | 0/4000 [00:00<?, ?it/s]"
      ]
     },
     "metadata": {},
     "output_type": "display_data"
    },
    {
     "name": "stdout",
     "output_type": "stream",
     "text": [
      "Saved!\n"
     ]
    },
    {
     "data": {
      "application/vnd.jupyter.widget-view+json": {
       "model_id": "88627e48e0114647b24c01dcd19ca605",
       "version_major": 2,
       "version_minor": 0
      },
      "text/plain": [
       "  0%|          | 0/4000 [00:00<?, ?it/s]"
      ]
     },
     "metadata": {},
     "output_type": "display_data"
    },
    {
     "name": "stdout",
     "output_type": "stream",
     "text": [
      "Saved!\n"
     ]
    },
    {
     "data": {
      "application/vnd.jupyter.widget-view+json": {
       "model_id": "77575439e04d4d3cb685415db07d9b75",
       "version_major": 2,
       "version_minor": 0
      },
      "text/plain": [
       "  0%|          | 0/4000 [00:00<?, ?it/s]"
      ]
     },
     "metadata": {},
     "output_type": "display_data"
    },
    {
     "name": "stdout",
     "output_type": "stream",
     "text": [
      "Saved!\n"
     ]
    }
   ],
   "source": [
    "xPotencia = {}\n",
    "for _c, _gama in tqdm_notebook(zip(params['c'], params['gama']), total=len(params['c'])):\n",
    "    xPotencia[f'c{_c}_gama{_gama}'] = extract_features(imgsPot[f'c{_c}_gama{_gama}'])\n",
    "    save(xPotencia[f'c{_c}_gama{_gama}'], path['pickle']+f'feats_potencia_c{_c}_gama{_gama}.pickle')"
   ]
  },
  {
   "cell_type": "code",
   "execution_count": 30,
   "metadata": {},
   "outputs": [
    {
     "data": {
      "application/vnd.jupyter.widget-view+json": {
       "model_id": "99218d404ecd4bc09f9238cd7c868876",
       "version_major": 2,
       "version_minor": 0
      },
      "text/plain": [
       "  0%|          | 0/4000 [00:00<?, ?it/s]"
      ]
     },
     "metadata": {},
     "output_type": "display_data"
    },
    {
     "name": "stdout",
     "output_type": "stream",
     "text": [
      "Saved!\n"
     ]
    }
   ],
   "source": [
    "xNegativo = extract_features(imgsNeg)\n",
    "save(xNegativo, path['pickle']+'feats_negative.pickle')"
   ]
  },
  {
   "cell_type": "markdown",
   "metadata": {},
   "source": [
    "## 3.1 Scatter plots"
   ]
  },
  {
   "cell_type": "code",
   "execution_count": 31,
   "metadata": {},
   "outputs": [],
   "source": [
    "dfFeats = pd.DataFrame(xOriginal, columns=['media', 'variancia','skewness','entropia','energia','kurtosis'])\n",
    "dfFeatsBal = pd.DataFrame(xBalancead,  columns=['media', 'variancia','skewness','entropia','energia','kurtosis'])"
   ]
  },
  {
   "cell_type": "code",
   "execution_count": 32,
   "metadata": {},
   "outputs": [],
   "source": [
    "dfNew = pd.concat([df, dfFeats], axis=1)\n",
    "dfNewBal = pd.concat([dfBal,dfFeatsBal], axis=1)"
   ]
  },
  {
   "cell_type": "code",
   "execution_count": 33,
   "metadata": {},
   "outputs": [
    {
     "data": {
      "text/html": [
       "<div>\n",
       "<style scoped>\n",
       "    .dataframe tbody tr th:only-of-type {\n",
       "        vertical-align: middle;\n",
       "    }\n",
       "\n",
       "    .dataframe tbody tr th {\n",
       "        vertical-align: top;\n",
       "    }\n",
       "\n",
       "    .dataframe thead th {\n",
       "        text-align: right;\n",
       "    }\n",
       "</style>\n",
       "<table border=\"1\" class=\"dataframe\">\n",
       "  <thead>\n",
       "    <tr style=\"text-align: right;\">\n",
       "      <th></th>\n",
       "      <th>image</th>\n",
       "      <th>label</th>\n",
       "      <th>media</th>\n",
       "      <th>variancia</th>\n",
       "      <th>skewness</th>\n",
       "      <th>entropia</th>\n",
       "      <th>energia</th>\n",
       "      <th>kurtosis</th>\n",
       "    </tr>\n",
       "  </thead>\n",
       "  <tbody>\n",
       "    <tr>\n",
       "      <th>0</th>\n",
       "      <td>2017-08-28_09-30-00-1_500_dirty_glass.mp4-bee_...</td>\n",
       "      <td>0</td>\n",
       "      <td>212.322275</td>\n",
       "      <td>93370.445902</td>\n",
       "      <td>1.887126</td>\n",
       "      <td>4.520240</td>\n",
       "      <td>29213202</td>\n",
       "      <td>2.930613</td>\n",
       "    </tr>\n",
       "    <tr>\n",
       "      <th>1</th>\n",
       "      <td>2017-08-28_09-30-00-1_500_dirty_glass.mp4-bee_...</td>\n",
       "      <td>1</td>\n",
       "      <td>199.111111</td>\n",
       "      <td>51936.969877</td>\n",
       "      <td>0.993701</td>\n",
       "      <td>4.773233</td>\n",
       "      <td>20605996</td>\n",
       "      <td>-0.460175</td>\n",
       "    </tr>\n",
       "    <tr>\n",
       "      <th>2</th>\n",
       "      <td>2017-08-28_09-30-00-1_500_dirty_glass.mp4-bee_...</td>\n",
       "      <td>0</td>\n",
       "      <td>224.000000</td>\n",
       "      <td>78013.570000</td>\n",
       "      <td>1.429383</td>\n",
       "      <td>4.610245</td>\n",
       "      <td>25637914</td>\n",
       "      <td>1.007680</td>\n",
       "    </tr>\n",
       "    <tr>\n",
       "      <th>3</th>\n",
       "      <td>2017-08-28_09-30-00-1_500_dirty_glass.mp4-bee_...</td>\n",
       "      <td>1</td>\n",
       "      <td>195.633188</td>\n",
       "      <td>90620.415667</td>\n",
       "      <td>2.581699</td>\n",
       "      <td>4.609847</td>\n",
       "      <td>29516442</td>\n",
       "      <td>6.669476</td>\n",
       "    </tr>\n",
       "    <tr>\n",
       "      <th>4</th>\n",
       "      <td>2017-08-28_09-30-00-1_500_dirty_glass.mp4-bee_...</td>\n",
       "      <td>0</td>\n",
       "      <td>201.801802</td>\n",
       "      <td>93535.600357</td>\n",
       "      <td>1.946727</td>\n",
       "      <td>4.525004</td>\n",
       "      <td>29805624</td>\n",
       "      <td>3.012690</td>\n",
       "    </tr>\n",
       "    <tr>\n",
       "      <th>...</th>\n",
       "      <td>...</td>\n",
       "      <td>...</td>\n",
       "      <td>...</td>\n",
       "      <td>...</td>\n",
       "      <td>...</td>\n",
       "      <td>...</td>\n",
       "      <td>...</td>\n",
       "      <td>...</td>\n",
       "    </tr>\n",
       "    <tr>\n",
       "      <th>3995</th>\n",
       "      <td>2017-09-20_19-24-55.mp4-bee_id_3601-21915-1.png</td>\n",
       "      <td>1</td>\n",
       "      <td>208.372093</td>\n",
       "      <td>97318.903407</td>\n",
       "      <td>3.290610</td>\n",
       "      <td>4.703474</td>\n",
       "      <td>30258634</td>\n",
       "      <td>11.243058</td>\n",
       "    </tr>\n",
       "    <tr>\n",
       "      <th>3996</th>\n",
       "      <td>2017-09-20_19-24-55.mp4-bee_id_3608-22185-1.png</td>\n",
       "      <td>1</td>\n",
       "      <td>193.939394</td>\n",
       "      <td>46946.507149</td>\n",
       "      <td>1.949301</td>\n",
       "      <td>4.907691</td>\n",
       "      <td>19533128</td>\n",
       "      <td>4.741169</td>\n",
       "    </tr>\n",
       "    <tr>\n",
       "      <th>3997</th>\n",
       "      <td>2017-09-20_19-24-55.mp4-bee_id_3616-22425-1.png</td>\n",
       "      <td>1</td>\n",
       "      <td>202.714932</td>\n",
       "      <td>117723.597469</td>\n",
       "      <td>2.553607</td>\n",
       "      <td>4.452596</td>\n",
       "      <td>35098544</td>\n",
       "      <td>6.331540</td>\n",
       "    </tr>\n",
       "    <tr>\n",
       "      <th>3998</th>\n",
       "      <td>2017-09-20_19-24-55.mp4-bee_id_3619-22530-1.png</td>\n",
       "      <td>1</td>\n",
       "      <td>202.714932</td>\n",
       "      <td>36480.249053</td>\n",
       "      <td>1.036624</td>\n",
       "      <td>4.978020</td>\n",
       "      <td>17143764</td>\n",
       "      <td>0.075920</td>\n",
       "    </tr>\n",
       "    <tr>\n",
       "      <th>3999</th>\n",
       "      <td>2017-09-20_19-24-55.mp4-bee_id_3623-22620-1.png</td>\n",
       "      <td>1</td>\n",
       "      <td>201.801802</td>\n",
       "      <td>52517.654411</td>\n",
       "      <td>1.961843</td>\n",
       "      <td>4.883765</td>\n",
       "      <td>20699640</td>\n",
       "      <td>3.746672</td>\n",
       "    </tr>\n",
       "  </tbody>\n",
       "</table>\n",
       "<p>4000 rows × 8 columns</p>\n",
       "</div>"
      ],
      "text/plain": [
       "                                                  image  label       media  \\\n",
       "0     2017-08-28_09-30-00-1_500_dirty_glass.mp4-bee_...      0  212.322275   \n",
       "1     2017-08-28_09-30-00-1_500_dirty_glass.mp4-bee_...      1  199.111111   \n",
       "2     2017-08-28_09-30-00-1_500_dirty_glass.mp4-bee_...      0  224.000000   \n",
       "3     2017-08-28_09-30-00-1_500_dirty_glass.mp4-bee_...      1  195.633188   \n",
       "4     2017-08-28_09-30-00-1_500_dirty_glass.mp4-bee_...      0  201.801802   \n",
       "...                                                 ...    ...         ...   \n",
       "3995    2017-09-20_19-24-55.mp4-bee_id_3601-21915-1.png      1  208.372093   \n",
       "3996    2017-09-20_19-24-55.mp4-bee_id_3608-22185-1.png      1  193.939394   \n",
       "3997    2017-09-20_19-24-55.mp4-bee_id_3616-22425-1.png      1  202.714932   \n",
       "3998    2017-09-20_19-24-55.mp4-bee_id_3619-22530-1.png      1  202.714932   \n",
       "3999    2017-09-20_19-24-55.mp4-bee_id_3623-22620-1.png      1  201.801802   \n",
       "\n",
       "          variancia  skewness  entropia   energia   kurtosis  \n",
       "0      93370.445902  1.887126  4.520240  29213202   2.930613  \n",
       "1      51936.969877  0.993701  4.773233  20605996  -0.460175  \n",
       "2      78013.570000  1.429383  4.610245  25637914   1.007680  \n",
       "3      90620.415667  2.581699  4.609847  29516442   6.669476  \n",
       "4      93535.600357  1.946727  4.525004  29805624   3.012690  \n",
       "...             ...       ...       ...       ...        ...  \n",
       "3995   97318.903407  3.290610  4.703474  30258634  11.243058  \n",
       "3996   46946.507149  1.949301  4.907691  19533128   4.741169  \n",
       "3997  117723.597469  2.553607  4.452596  35098544   6.331540  \n",
       "3998   36480.249053  1.036624  4.978020  17143764   0.075920  \n",
       "3999   52517.654411  1.961843  4.883765  20699640   3.746672  \n",
       "\n",
       "[4000 rows x 8 columns]"
      ]
     },
     "execution_count": 33,
     "metadata": {},
     "output_type": "execute_result"
    }
   ],
   "source": [
    "dfNewBal"
   ]
  },
  {
   "cell_type": "markdown",
   "metadata": {},
   "source": [
    "# 4 Classificação"
   ]
  },
  {
   "cell_type": "code",
   "execution_count": 139,
   "metadata": {},
   "outputs": [],
   "source": [
    "def classification(X,y):\n",
    "\n",
    "    \"\"\"\n",
    "    X é uma matriz onde cada linha corresponde aos atributos calculados com o descritor\n",
    "    y são os rótulos da classe de cada imagem. Exemplo [0,1,0,0,1,2,2,0,0,0,...,1]\n",
    "    \"\"\"\n",
    "    \n",
    "    # separar conjuntos de treino e teste\n",
    "    X_train,X_test,y_train,y_test = train_test_split(X,y,train_size=0.8, shuffle=True)\n",
    "    # criar instancia do classificador\n",
    "    clf = mlp()\n",
    "    # treinar o classificador\n",
    "    clf.fit(X_train,y_train)\n",
    "    # realizar a predicao\n",
    "    pred = clf.predict(X_test)\n",
    "    # calcular o resultado utilizando a acuracia\n",
    "    acuracia = accuracy_score(y_test,pred)\n",
    "    kappa = cohen_kappa_score(y_test,pred)\n",
    "    precision = precision_score(y_test,pred)\n",
    "    \n",
    "    return acuracia"
   ]
  },
  {
   "cell_type": "code",
   "execution_count": 140,
   "metadata": {},
   "outputs": [],
   "source": [
    "result = {}"
   ]
  },
  {
   "cell_type": "code",
   "execution_count": null,
   "metadata": {},
   "outputs": [],
   "source": [
    "result['original'] = classification(xOriginal,y)\n",
    "result['original_balanceamento'] = classification(xBalancead, yBal)\n",
    "result['negativo'] = classification(xNegativo,yBal)"
   ]
  },
  {
   "cell_type": "code",
   "execution_count": null,
   "metadata": {},
   "outputs": [],
   "source": [
    "for _k,_e in tqdm_notebook(zip(params['k'], params['e']), total=len(params['k'])):\n",
    "    result[f'alargamento_k{_k}_e{_e}'] = classification(xAlargamento[f'k{_k}_e{_e}'],yBal)"
   ]
  },
  {
   "cell_type": "code",
   "execution_count": null,
   "metadata": {},
   "outputs": [],
   "source": [
    "for _c in tqdm_notebook(params['c']):\n",
    "    result[f'Logaritmo_c{_c}'] = classification(xLogaritmo[f'c{_c}'],yBal)"
   ]
  },
  {
   "cell_type": "code",
   "execution_count": null,
   "metadata": {},
   "outputs": [],
   "source": [
    "for _c, _gama in tqdm_notebook(zip(params['c'], params['gama']), total=len(params['c'])):\n",
    "    result[f'potencia_c{_c}_gama{_gama}'] = classification(xPotencia[f'c{_c}_gama{_gama}'],yBal)"
   ]
  },
  {
   "cell_type": "code",
   "execution_count": null,
   "metadata": {},
   "outputs": [],
   "source": [
    "dfRes = pd.DataFrame([result.keys(),result.values()]).T\n",
    "dfRes.columns = ['tipo_imagem','acuracia']\n",
    "dfRes"
   ]
  },
  {
   "cell_type": "code",
   "execution_count": null,
   "metadata": {},
   "outputs": [],
   "source": []
  }
 ],
 "metadata": {
  "kernelspec": {
   "display_name": "Python 3 (ipykernel)",
   "language": "python",
   "name": "python3"
  },
  "language_info": {
   "codemirror_mode": {
    "name": "ipython",
    "version": 3
   },
   "file_extension": ".py",
   "mimetype": "text/x-python",
   "name": "python",
   "nbconvert_exporter": "python",
   "pygments_lexer": "ipython3",
   "version": "3.10.9 (tags/v3.10.9:1dd9be6, Dec  6 2022, 20:01:21) [MSC v.1934 64 bit (AMD64)]"
  },
  "vscode": {
   "interpreter": {
    "hash": "053a875b0ef325a5058eee2706dc21546432549533f18aefe729db0daaabd458"
   }
  }
 },
 "nbformat": 4,
 "nbformat_minor": 2
}
