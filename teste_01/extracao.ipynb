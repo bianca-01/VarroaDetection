{
 "cells": [
  {
   "cell_type": "code",
   "execution_count": 28,
   "metadata": {},
   "outputs": [],
   "source": [
    "from cv2 import imread, imshow, calcHist\n",
    "import pandas as pd\n",
    "import numpy as np\n",
    "import matplotlib.pyplot as plt\n",
    "import os\n",
    "from glob import glob\n",
    "from tqdm.notebook import tqdm_notebook\n",
    "import pickle"
   ]
  },
  {
   "cell_type": "code",
   "execution_count": 11,
   "metadata": {},
   "outputs": [],
   "source": [
    "def histograma(imgName):\n",
    "    img = imread(imgName, 0)\n",
    "    hist = calcHist([img], [0], None, [256], [0, 256])\n",
    "    return hist"
   ]
  },
  {
   "cell_type": "code",
   "execution_count": 12,
   "metadata": {},
   "outputs": [],
   "source": [
    "def media(hist):\n",
    "    return np.mean(hist)"
   ]
  },
  {
   "cell_type": "code",
   "execution_count": 13,
   "metadata": {},
   "outputs": [],
   "source": [
    "def variancia(hist):\n",
    "    return np.var(hist)"
   ]
  },
  {
   "cell_type": "code",
   "execution_count": 31,
   "metadata": {},
   "outputs": [],
   "source": [
    "def skewness(hist):\n",
    "    media = np.mean(hist)\n",
    "    mediana = np.median(hist)\n",
    "    desvio = np.std(hist)\n",
    "    return (3 * ((media - mediana)) / desvio)"
   ]
  },
  {
   "cell_type": "code",
   "execution_count": 15,
   "metadata": {},
   "outputs": [],
   "source": [
    "def entropia(hist):\n",
    "    hist = [x / sum(hist) for x in hist]\n",
    "    hist = [-x * np.log2(x) for x in hist if x != 0]\n",
    "    return sum(hist)"
   ]
  },
  {
   "cell_type": "code",
   "execution_count": 16,
   "metadata": {},
   "outputs": [],
   "source": [
    "def energia(hist):\n",
    "    return np.sum(np.power(hist, 2))"
   ]
  },
  {
   "cell_type": "code",
   "execution_count": 17,
   "metadata": {},
   "outputs": [],
   "source": [
    "def kurtosis(hist):\n",
    "    return pd.Series(hist[:,0]).kurtosis()"
   ]
  },
  {
   "cell_type": "code",
   "execution_count": 18,
   "metadata": {},
   "outputs": [],
   "source": [
    "def descritorHistograma(img):\n",
    "    hist = histograma(img)\n",
    "    return [media(hist), \n",
    "            variancia(hist), \n",
    "            skewness(hist), \n",
    "            entropia(hist), \n",
    "            energia(hist), \n",
    "            kurtosis(hist)]"
   ]
  },
  {
   "cell_type": "code",
   "execution_count": 32,
   "metadata": {},
   "outputs": [],
   "source": [
    "def run(metadata, path):\n",
    "    features = []\n",
    "    labels = []\n",
    "    for i in tqdm_notebook(metadata.index):\n",
    "        features.append(descritorHistograma(path+metadata['image'][i]))\n",
    "        labels.append(metadata['label'][i])\n",
    "    return features, labels"
   ]
  },
  {
   "cell_type": "code",
   "execution_count": 29,
   "metadata": {},
   "outputs": [],
   "source": [
    "def save(content, name):\n",
    "    try:\n",
    "        with open(name, 'wb') as f:\n",
    "            pickle.dump(content, f)\n",
    "        print('Saved!')\n",
    "    except Exception as e:\n",
    "        print(e)"
   ]
  },
  {
   "cell_type": "code",
   "execution_count": 3,
   "metadata": {},
   "outputs": [],
   "source": [
    "pathMetadata = '../../Metadata/'\n",
    "pathImg = '../../VarroaDataset/'\n",
    "pathCsv = '../../csv/'\n",
    "pathPickle = '../../pickle/'"
   ]
  },
  {
   "cell_type": "code",
   "execution_count": 5,
   "metadata": {},
   "outputs": [
    {
     "data": {
      "text/html": [
       "<div>\n",
       "<style scoped>\n",
       "    .dataframe tbody tr th:only-of-type {\n",
       "        vertical-align: middle;\n",
       "    }\n",
       "\n",
       "    .dataframe tbody tr th {\n",
       "        vertical-align: top;\n",
       "    }\n",
       "\n",
       "    .dataframe thead th {\n",
       "        text-align: right;\n",
       "    }\n",
       "</style>\n",
       "<table border=\"1\" class=\"dataframe\">\n",
       "  <thead>\n",
       "    <tr style=\"text-align: right;\">\n",
       "      <th></th>\n",
       "      <th>image</th>\n",
       "      <th>label</th>\n",
       "    </tr>\n",
       "  </thead>\n",
       "  <tbody>\n",
       "    <tr>\n",
       "      <th>0</th>\n",
       "      <td>2017-09-25_16-03-38.mp4-bee_id_1035-35745-1.png</td>\n",
       "      <td>0</td>\n",
       "    </tr>\n",
       "    <tr>\n",
       "      <th>1</th>\n",
       "      <td>2017-09-20_19-24-55.mp4-bee_id_4183-38010-1.png</td>\n",
       "      <td>1</td>\n",
       "    </tr>\n",
       "    <tr>\n",
       "      <th>2</th>\n",
       "      <td>2017-09-25_16-03-38.mp4-bee_id_1445-47025-1.png</td>\n",
       "      <td>0</td>\n",
       "    </tr>\n",
       "    <tr>\n",
       "      <th>3</th>\n",
       "      <td>2017-09-20_19-24-55.mp4-bee_id_2937-3735-1.png</td>\n",
       "      <td>0</td>\n",
       "    </tr>\n",
       "    <tr>\n",
       "      <th>4</th>\n",
       "      <td>2017-09-20_19-24-55.mp4-bee_id_3114-8625-1.png</td>\n",
       "      <td>1</td>\n",
       "    </tr>\n",
       "    <tr>\n",
       "      <th>...</th>\n",
       "      <td>...</td>\n",
       "      <td>...</td>\n",
       "    </tr>\n",
       "    <tr>\n",
       "      <th>13504</th>\n",
       "      <td>2017-09-20_19-24-55.mp4-bee_id_4918-58845-1.png</td>\n",
       "      <td>0</td>\n",
       "    </tr>\n",
       "    <tr>\n",
       "      <th>13505</th>\n",
       "      <td>2017-09-29_15-31-49.mp4-bee_id_145-3690-1.png</td>\n",
       "      <td>0</td>\n",
       "    </tr>\n",
       "    <tr>\n",
       "      <th>13506</th>\n",
       "      <td>2017-09-20_19-24-55.mp4-bee_id_5120-64215-1.png</td>\n",
       "      <td>0</td>\n",
       "    </tr>\n",
       "    <tr>\n",
       "      <th>13507</th>\n",
       "      <td>2017-08-28_09-30-00-1_500_dirty_glass.mp4-bee_...</td>\n",
       "      <td>0</td>\n",
       "    </tr>\n",
       "    <tr>\n",
       "      <th>13508</th>\n",
       "      <td>2017-09-25_16-03-38.mp4-bee_id_402-13185-1.png</td>\n",
       "      <td>1</td>\n",
       "    </tr>\n",
       "  </tbody>\n",
       "</table>\n",
       "<p>13509 rows × 2 columns</p>\n",
       "</div>"
      ],
      "text/plain": [
       "                                                   image  label\n",
       "0        2017-09-25_16-03-38.mp4-bee_id_1035-35745-1.png      0\n",
       "1        2017-09-20_19-24-55.mp4-bee_id_4183-38010-1.png      1\n",
       "2        2017-09-25_16-03-38.mp4-bee_id_1445-47025-1.png      0\n",
       "3         2017-09-20_19-24-55.mp4-bee_id_2937-3735-1.png      0\n",
       "4         2017-09-20_19-24-55.mp4-bee_id_3114-8625-1.png      1\n",
       "...                                                  ...    ...\n",
       "13504    2017-09-20_19-24-55.mp4-bee_id_4918-58845-1.png      0\n",
       "13505      2017-09-29_15-31-49.mp4-bee_id_145-3690-1.png      0\n",
       "13506    2017-09-20_19-24-55.mp4-bee_id_5120-64215-1.png      0\n",
       "13507  2017-08-28_09-30-00-1_500_dirty_glass.mp4-bee_...      0\n",
       "13508     2017-09-25_16-03-38.mp4-bee_id_402-13185-1.png      1\n",
       "\n",
       "[13509 rows x 2 columns]"
      ]
     },
     "execution_count": 5,
     "metadata": {},
     "output_type": "execute_result"
    }
   ],
   "source": [
    "metadata = pd.read_csv('../../Metadata/metadataVarroa.csv')\n",
    "metadata"
   ]
  },
  {
   "cell_type": "code",
   "execution_count": 33,
   "metadata": {},
   "outputs": [
    {
     "data": {
      "application/vnd.jupyter.widget-view+json": {
       "model_id": "a92c345cd45d4e5fb0567b5559b561ff",
       "version_major": 2,
       "version_minor": 0
      },
      "text/plain": [
       "  0%|          | 0/13509 [00:00<?, ?it/s]"
      ]
     },
     "metadata": {},
     "output_type": "display_data"
    }
   ],
   "source": [
    "x, y = run(metadata, pathImg)"
   ]
  },
  {
   "cell_type": "code",
   "execution_count": 35,
   "metadata": {},
   "outputs": [
    {
     "data": {
      "text/plain": [
       "([175.0, 55384.6, 1.2428861223926373, 6.906747, 22018456.0, 1.4985876],\n",
       " [175.0, 66731.375, 1.1845582027902484, 6.8406973, 24923232.0, 2.8586366])"
      ]
     },
     "execution_count": 35,
     "metadata": {},
     "output_type": "execute_result"
    }
   ],
   "source": [
    "x[2], x[3]"
   ]
  },
  {
   "cell_type": "code",
   "execution_count": 30,
   "metadata": {},
   "outputs": [
    {
     "name": "stdout",
     "output_type": "stream",
     "text": [
      "Saved!\n",
      "Saved!\n"
     ]
    }
   ],
   "source": [
    "save(x, pathPickle+'features_original.pickle')\n",
    "save(y, pathPickle+'labels_original.pickle')"
   ]
  }
 ],
 "metadata": {
  "kernelspec": {
   "display_name": "base",
   "language": "python",
   "name": "python3"
  },
  "language_info": {
   "codemirror_mode": {
    "name": "ipython",
    "version": 3
   },
   "file_extension": ".py",
   "mimetype": "text/x-python",
   "name": "python",
   "nbconvert_exporter": "python",
   "pygments_lexer": "ipython3",
   "version": "3.9.13"
  },
  "orig_nbformat": 4,
  "vscode": {
   "interpreter": {
    "hash": "ad2bdc8ecc057115af97d19610ffacc2b4e99fae6737bb82f5d7fb13d2f2c186"
   }
  }
 },
 "nbformat": 4,
 "nbformat_minor": 2
}
